{
 "cells": [
  {
   "cell_type": "code",
   "execution_count": 1,
   "id": "d9c2f619",
   "metadata": {},
   "outputs": [
    {
     "name": "stderr",
     "output_type": "stream",
     "text": [
      "[nltk_data] Downloading package stopwords to\n",
      "[nltk_data]     C:\\Users\\HP\\AppData\\Roaming\\nltk_data...\n",
      "[nltk_data]   Package stopwords is already up-to-date!\n",
      "[nltk_data] Downloading package averaged_perceptron_tagger to\n",
      "[nltk_data]     C:\\Users\\HP\\AppData\\Roaming\\nltk_data...\n",
      "[nltk_data]   Package averaged_perceptron_tagger is already up-to-\n",
      "[nltk_data]       date!\n"
     ]
    },
    {
     "data": {
      "text/plain": [
       "True"
      ]
     },
     "execution_count": 1,
     "metadata": {},
     "output_type": "execute_result"
    }
   ],
   "source": [
    "import pandas as pd\n",
    "import textstat\n",
    "from wordfreq import word_frequency\n",
    "from textblob import TextBlob\n",
    "import nltk\n",
    "nltk.download('stopwords')\n",
    "from nltk.corpus import stopwords\n",
    "from nltk import word_tokenize\n",
    "nltk.download('averaged_perceptron_tagger')"
   ]
  },
  {
   "cell_type": "code",
   "execution_count": 2,
   "id": "f7588e20",
   "metadata": {},
   "outputs": [],
   "source": [
    "essays = pd.read_csv(r\"C:/Users/HP/Desktop/Projects/ML/Project_2/asap-aes/valid_set.tsv\", sep = '\\t',  encoding='latin-1')"
   ]
  },
  {
   "cell_type": "code",
   "execution_count": 3,
   "id": "4e6cc487",
   "metadata": {},
   "outputs": [
    {
     "data": {
      "text/html": [
       "<div>\n",
       "<style scoped>\n",
       "    .dataframe tbody tr th:only-of-type {\n",
       "        vertical-align: middle;\n",
       "    }\n",
       "\n",
       "    .dataframe tbody tr th {\n",
       "        vertical-align: top;\n",
       "    }\n",
       "\n",
       "    .dataframe thead th {\n",
       "        text-align: right;\n",
       "    }\n",
       "</style>\n",
       "<table border=\"1\" class=\"dataframe\">\n",
       "  <thead>\n",
       "    <tr style=\"text-align: right;\">\n",
       "      <th></th>\n",
       "      <th>essay_id</th>\n",
       "      <th>essay_set</th>\n",
       "      <th>essay</th>\n",
       "      <th>domain1_predictionid</th>\n",
       "      <th>domain2_predictionid</th>\n",
       "    </tr>\n",
       "  </thead>\n",
       "  <tbody>\n",
       "    <tr>\n",
       "      <th>0</th>\n",
       "      <td>1788</td>\n",
       "      <td>1</td>\n",
       "      <td>Dear @ORGANIZATION1, @CAPS1 more and more peop...</td>\n",
       "      <td>1788</td>\n",
       "      <td>NaN</td>\n",
       "    </tr>\n",
       "    <tr>\n",
       "      <th>1</th>\n",
       "      <td>1789</td>\n",
       "      <td>1</td>\n",
       "      <td>Dear @LOCATION1 Time @CAPS1 me tell you what I...</td>\n",
       "      <td>1789</td>\n",
       "      <td>NaN</td>\n",
       "    </tr>\n",
       "    <tr>\n",
       "      <th>2</th>\n",
       "      <td>1790</td>\n",
       "      <td>1</td>\n",
       "      <td>Dear Local newspaper, Have you been spending a...</td>\n",
       "      <td>1790</td>\n",
       "      <td>NaN</td>\n",
       "    </tr>\n",
       "    <tr>\n",
       "      <th>3</th>\n",
       "      <td>1791</td>\n",
       "      <td>1</td>\n",
       "      <td>Dear Readers, @CAPS1 you imagine how life woul...</td>\n",
       "      <td>1791</td>\n",
       "      <td>NaN</td>\n",
       "    </tr>\n",
       "    <tr>\n",
       "      <th>4</th>\n",
       "      <td>1792</td>\n",
       "      <td>1</td>\n",
       "      <td>Dear newspaper, I strongly believe that comput...</td>\n",
       "      <td>1792</td>\n",
       "      <td>NaN</td>\n",
       "    </tr>\n",
       "    <tr>\n",
       "      <th>...</th>\n",
       "      <td>...</td>\n",
       "      <td>...</td>\n",
       "      <td>...</td>\n",
       "      <td>...</td>\n",
       "      <td>...</td>\n",
       "    </tr>\n",
       "    <tr>\n",
       "      <th>4213</th>\n",
       "      <td>21933</td>\n",
       "      <td>8</td>\n",
       "      <td>Have you ever noticed that if two little kids...</td>\n",
       "      <td>24933</td>\n",
       "      <td>NaN</td>\n",
       "    </tr>\n",
       "    <tr>\n",
       "      <th>4214</th>\n",
       "      <td>21934</td>\n",
       "      <td>8</td>\n",
       "      <td>Laughter @CAPS1 I ...</td>\n",
       "      <td>24934</td>\n",
       "      <td>NaN</td>\n",
       "    </tr>\n",
       "    <tr>\n",
       "      <th>4215</th>\n",
       "      <td>21935</td>\n",
       "      <td>8</td>\n",
       "      <td>Laughter in @CAPS1 A laugh is not just an act...</td>\n",
       "      <td>24935</td>\n",
       "      <td>NaN</td>\n",
       "    </tr>\n",
       "    <tr>\n",
       "      <th>4216</th>\n",
       "      <td>21937</td>\n",
       "      <td>8</td>\n",
       "      <td>LAUGHTER @CAPS1 i was younger my friend live...</td>\n",
       "      <td>24937</td>\n",
       "      <td>NaN</td>\n",
       "    </tr>\n",
       "    <tr>\n",
       "      <th>4217</th>\n",
       "      <td>21938</td>\n",
       "      <td>8</td>\n",
       "      <td>You know how the saying goes live, laugh, lov...</td>\n",
       "      <td>24938</td>\n",
       "      <td>NaN</td>\n",
       "    </tr>\n",
       "  </tbody>\n",
       "</table>\n",
       "<p>4218 rows × 5 columns</p>\n",
       "</div>"
      ],
      "text/plain": [
       "      essay_id  essay_set                                              essay  \\\n",
       "0         1788          1  Dear @ORGANIZATION1, @CAPS1 more and more peop...   \n",
       "1         1789          1  Dear @LOCATION1 Time @CAPS1 me tell you what I...   \n",
       "2         1790          1  Dear Local newspaper, Have you been spending a...   \n",
       "3         1791          1  Dear Readers, @CAPS1 you imagine how life woul...   \n",
       "4         1792          1  Dear newspaper, I strongly believe that comput...   \n",
       "...        ...        ...                                                ...   \n",
       "4213     21933          8   Have you ever noticed that if two little kids...   \n",
       "4214     21934          8                              Laughter @CAPS1 I ...   \n",
       "4215     21935          8   Laughter in @CAPS1 A laugh is not just an act...   \n",
       "4216     21937          8    LAUGHTER @CAPS1 i was younger my friend live...   \n",
       "4217     21938          8   You know how the saying goes live, laugh, lov...   \n",
       "\n",
       "      domain1_predictionid  domain2_predictionid  \n",
       "0                     1788                   NaN  \n",
       "1                     1789                   NaN  \n",
       "2                     1790                   NaN  \n",
       "3                     1791                   NaN  \n",
       "4                     1792                   NaN  \n",
       "...                    ...                   ...  \n",
       "4213                 24933                   NaN  \n",
       "4214                 24934                   NaN  \n",
       "4215                 24935                   NaN  \n",
       "4216                 24937                   NaN  \n",
       "4217                 24938                   NaN  \n",
       "\n",
       "[4218 rows x 5 columns]"
      ]
     },
     "execution_count": 3,
     "metadata": {},
     "output_type": "execute_result"
    }
   ],
   "source": [
    "essays"
   ]
  },
  {
   "cell_type": "code",
   "execution_count": 4,
   "id": "6152ba48",
   "metadata": {},
   "outputs": [
    {
     "data": {
      "text/plain": [
       "essay_id                   0\n",
       "essay_set                  0\n",
       "essay                      0\n",
       "domain1_predictionid       0\n",
       "domain2_predictionid    3618\n",
       "dtype: int64"
      ]
     },
     "execution_count": 4,
     "metadata": {},
     "output_type": "execute_result"
    }
   ],
   "source": [
    "essays.isna().sum()"
   ]
  },
  {
   "cell_type": "code",
   "execution_count": 5,
   "id": "d5d337e5",
   "metadata": {},
   "outputs": [
    {
     "data": {
      "text/html": [
       "<div>\n",
       "<style scoped>\n",
       "    .dataframe tbody tr th:only-of-type {\n",
       "        vertical-align: middle;\n",
       "    }\n",
       "\n",
       "    .dataframe tbody tr th {\n",
       "        vertical-align: top;\n",
       "    }\n",
       "\n",
       "    .dataframe thead th {\n",
       "        text-align: right;\n",
       "    }\n",
       "</style>\n",
       "<table border=\"1\" class=\"dataframe\">\n",
       "  <thead>\n",
       "    <tr style=\"text-align: right;\">\n",
       "      <th></th>\n",
       "      <th>essay_id</th>\n",
       "      <th>essay_set</th>\n",
       "      <th>domain1_predictionid</th>\n",
       "      <th>domain2_predictionid</th>\n",
       "    </tr>\n",
       "  </thead>\n",
       "  <tbody>\n",
       "    <tr>\n",
       "      <th>count</th>\n",
       "      <td>4218.000000</td>\n",
       "      <td>4218.000000</td>\n",
       "      <td>4218.000000</td>\n",
       "      <td>600.000000</td>\n",
       "    </tr>\n",
       "    <tr>\n",
       "      <th>mean</th>\n",
       "      <td>11282.446420</td>\n",
       "      <td>4.123518</td>\n",
       "      <td>13735.433618</td>\n",
       "      <td>7178.000000</td>\n",
       "    </tr>\n",
       "    <tr>\n",
       "      <th>std</th>\n",
       "      <td>6173.633131</td>\n",
       "      <td>2.117188</td>\n",
       "      <td>6964.020021</td>\n",
       "      <td>346.698716</td>\n",
       "    </tr>\n",
       "    <tr>\n",
       "      <th>min</th>\n",
       "      <td>1788.000000</td>\n",
       "      <td>1.000000</td>\n",
       "      <td>1788.000000</td>\n",
       "      <td>6579.000000</td>\n",
       "    </tr>\n",
       "    <tr>\n",
       "      <th>25%</th>\n",
       "      <td>5243.250000</td>\n",
       "      <td>2.000000</td>\n",
       "      <td>7508.500000</td>\n",
       "      <td>6878.500000</td>\n",
       "    </tr>\n",
       "    <tr>\n",
       "      <th>50%</th>\n",
       "      <td>10995.500000</td>\n",
       "      <td>4.000000</td>\n",
       "      <td>13995.500000</td>\n",
       "      <td>7178.000000</td>\n",
       "    </tr>\n",
       "    <tr>\n",
       "      <th>75%</th>\n",
       "      <td>16852.750000</td>\n",
       "      <td>6.000000</td>\n",
       "      <td>19852.750000</td>\n",
       "      <td>7477.500000</td>\n",
       "    </tr>\n",
       "    <tr>\n",
       "      <th>max</th>\n",
       "      <td>21938.000000</td>\n",
       "      <td>8.000000</td>\n",
       "      <td>24938.000000</td>\n",
       "      <td>7777.000000</td>\n",
       "    </tr>\n",
       "  </tbody>\n",
       "</table>\n",
       "</div>"
      ],
      "text/plain": [
       "           essay_id    essay_set  domain1_predictionid  domain2_predictionid\n",
       "count   4218.000000  4218.000000           4218.000000            600.000000\n",
       "mean   11282.446420     4.123518          13735.433618           7178.000000\n",
       "std     6173.633131     2.117188           6964.020021            346.698716\n",
       "min     1788.000000     1.000000           1788.000000           6579.000000\n",
       "25%     5243.250000     2.000000           7508.500000           6878.500000\n",
       "50%    10995.500000     4.000000          13995.500000           7178.000000\n",
       "75%    16852.750000     6.000000          19852.750000           7477.500000\n",
       "max    21938.000000     8.000000          24938.000000           7777.000000"
      ]
     },
     "execution_count": 5,
     "metadata": {},
     "output_type": "execute_result"
    }
   ],
   "source": [
    "essays.describe()"
   ]
  },
  {
   "cell_type": "code",
   "execution_count": null,
   "id": "adcc25d6",
   "metadata": {},
   "outputs": [],
   "source": []
  },
  {
   "cell_type": "markdown",
   "id": "e3c6eae4",
   "metadata": {},
   "source": [
    "Useful Fonctions"
   ]
  },
  {
   "cell_type": "markdown",
   "id": "23853f9c",
   "metadata": {},
   "source": [
    "### Functions to measure readability"
   ]
  },
  {
   "cell_type": "code",
   "execution_count": 6,
   "id": "0592a4f4",
   "metadata": {},
   "outputs": [],
   "source": [
    "#The Flesch Reading Ease gives a text a score between 1 and 100, with 100 being the highest readability score\n",
    "f_reading_ease = lambda text:  textstat.flesch_reading_ease(text)"
   ]
  },
  {
   "cell_type": "code",
   "execution_count": 7,
   "id": "161b9493",
   "metadata": {},
   "outputs": [
    {
     "data": {
      "text/plain": [
       "83.32"
      ]
     },
     "execution_count": 7,
     "metadata": {},
     "output_type": "execute_result"
    }
   ],
   "source": [
    "f_reading_ease(\"Hello Martial, how are you ?\")"
   ]
  },
  {
   "cell_type": "code",
   "execution_count": 8,
   "id": "723b49ad",
   "metadata": {},
   "outputs": [],
   "source": [
    "#The Gunning Fog formula generates a grade level between 0 and 20. It estimates the education level required to understand the text.\n",
    "g_fog = lambda text : textstat.gunning_fog(text)"
   ]
  },
  {
   "cell_type": "code",
   "execution_count": 9,
   "id": "7495561f",
   "metadata": {},
   "outputs": [
    {
     "data": {
      "text/plain": [
       "2.0"
      ]
     },
     "execution_count": 9,
     "metadata": {},
     "output_type": "execute_result"
    }
   ],
   "source": [
    "g_fog(\"Hello Dylan, how are you ?\")"
   ]
  },
  {
   "cell_type": "code",
   "execution_count": null,
   "id": "08525a91",
   "metadata": {},
   "outputs": [],
   "source": []
  },
  {
   "cell_type": "markdown",
   "id": "152be511",
   "metadata": {},
   "source": [
    "### Measure lexical complexity "
   ]
  },
  {
   "cell_type": "code",
   "execution_count": 10,
   "id": "24867a50",
   "metadata": {},
   "outputs": [
    {
     "data": {
      "text/plain": [
       "0.000219"
      ]
     },
     "execution_count": 10,
     "metadata": {},
     "output_type": "execute_result"
    }
   ],
   "source": [
    "# The frequencies of words in many languages\n",
    "word_frequency(\"Data\", \"en\")"
   ]
  },
  {
   "cell_type": "code",
   "execution_count": 11,
   "id": "6f7511f0",
   "metadata": {},
   "outputs": [
    {
     "data": {
      "text/plain": [
       "0.4"
      ]
     },
     "execution_count": 11,
     "metadata": {},
     "output_type": "execute_result"
    }
   ],
   "source": [
    "#the lexical density: Lexical density is a measure of the proportion of content words (nouns, verbs, adjectives, and adverbs)\n",
    "#in a text compared to the total number of words. \n",
    "def lexical_density(text):\n",
    "    blob = TextBlob(text)\n",
    "    words = blob.words\n",
    "    content_words = [word.lower() for word in words if word.lower() not in stopwords.words('english')]\n",
    "    lexical_density = len(content_words) / len(words)\n",
    "    return lexical_density\n",
    "\n",
    "lexical_density(\"I am a Data engineer\")"
   ]
  },
  {
   "cell_type": "raw",
   "id": "94592128",
   "metadata": {},
   "source": [
    "80%-100%: Extremely high density. Rare in most types of textsriting. Writing Style: Highly technical, specialized, and devoid of excess filler words.\n",
    "\n",
    "70%-79%: High density. Typically found in academic, scientific, or technical documents.Writing Style: Academic and formal\n",
    "\n",
    "60%-69%: Moderately high density. Often seen in specialized texts or writings that have a substantial informational content but \n",
    "may still incorporate some descriptive or explanatory phrasing.Writing Style: detailed informational content, usage of domain-specific vocabulary\n",
    "\n",
    "50%-59%: Above average density. Seen in formal writings, such as news articles, essays, and professional reports. Writing Style: Formal and structured\n",
    "\n",
    "40%-49%: Average density. General prose, such as fiction, general non-fiction, and some conversational content.Writing Style: Semi-formal\n",
    "\n",
    "30%-39%: Below average density. Could be seen in more conversational or dialogue-heavy texts. Writing Style: Conversational and narrative-driven\n",
    "\n",
    "20%-29%: Low density. Typical of casual conversations where function words (“is”, “and”, “the”, etc.) are prevalent. Writing Style: Very informal.\n",
    "\n",
    "0%-19%: Extremely low density. Rare in written texts. Might be seen in very informal or repetitive spoken exchanges. Writing Style: Extremely informal, simplistic, or repetitive."
   ]
  },
  {
   "cell_type": "code",
   "execution_count": 12,
   "id": "e96b81ab",
   "metadata": {},
   "outputs": [],
   "source": [
    "#The ratio of differents types of words (verb, adjectives, nouns)\n",
    "def calculate_pos_ratios(paragraph):\n",
    "    words = word_tokenize(paragraph)\n",
    "    stop_words = set(stopwords.words('english'))\n",
    "    words = [word.lower() for word in words if word.isalpha() and word.lower() not in stop_words]\n",
    "\n",
    "    pos_tags = nltk.pos_tag(words)\n",
    "\n",
    "    total_words = len(words)\n",
    "    adjective_count = sum(1 for word, pos in pos_tags if pos in ['JJ'] or pos in ['JJR'] or pos in ['JJS'])\n",
    "    noun_count = sum(1 for word, pos in pos_tags if pos in ['NN']  or pos in ['NNS'])\n",
    "    verb_count = sum(1 for word, pos in pos_tags if pos in ['VB'] or pos in ['VBD'] or pos in ['VBG'] or pos in ['VBN'] or pos in ['VBP'] or pos in ['VBZ'])\n",
    "\n",
    "    adjective_ratio = adjective_count / total_words if total_words > 0 else 0\n",
    "    noun_ratio = noun_count / total_words if total_words > 0 else 0\n",
    "    verb_ratio = verb_count / total_words if total_words > 0 else 0\n",
    "\n",
    "    return adjective_ratio, noun_ratio, verb_ratio"
   ]
  },
  {
   "cell_type": "code",
   "execution_count": 13,
   "id": "47c560d1",
   "metadata": {},
   "outputs": [
    {
     "name": "stdout",
     "output_type": "stream",
     "text": [
      "Adjective Ratio: 0.00%\n",
      "Noun Ratio: 66.67%\n",
      "Verb Ratio: 33.33%\n"
     ]
    }
   ],
   "source": [
    "paragraph = \"Spero went to school\"\n",
    "adjective_ratio, noun_ratio, verb_ratio = calculate_pos_ratios(paragraph)\n",
    "\n",
    "print(f\"Adjective Ratio: {adjective_ratio:.2%}\")\n",
    "print(f\"Noun Ratio: {noun_ratio:.2%}\")\n",
    "print(f\"Verb Ratio: {verb_ratio:.2%}\")"
   ]
  }
 ],
 "metadata": {
  "kernelspec": {
   "display_name": "Python 3 (ipykernel)",
   "language": "python",
   "name": "python3"
  },
  "language_info": {
   "codemirror_mode": {
    "name": "ipython",
    "version": 3
   },
   "file_extension": ".py",
   "mimetype": "text/x-python",
   "name": "python",
   "nbconvert_exporter": "python",
   "pygments_lexer": "ipython3",
   "version": "3.9.18"
  }
 },
 "nbformat": 4,
 "nbformat_minor": 5
}
